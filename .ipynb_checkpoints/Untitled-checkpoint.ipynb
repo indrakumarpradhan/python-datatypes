{
 "cells": [
  {
   "cell_type": "code",
   "execution_count": 1,
   "id": "d9ab3f7f",
   "metadata": {},
   "outputs": [
    {
     "name": "stdout",
     "output_type": "stream",
     "text": [
      "The target number 8 was found at index 6.\n"
     ]
    }
   ],
   "source": [
    "def linear_search(arr, target):\n",
    "    for i in range(len(arr)):\n",
    "        if arr[i] == target:\n",
    "            return i \n",
    "    return -1  \n",
    "\n",
    "numbers = [4, 2, 9, 7, 5, 1, 8, 3, 6]\n",
    "target_number = 8\n",
    "\n",
    "index = linear_search(numbers, target_number)\n",
    "\n",
    "if index != -1:\n",
    "    print(f\"The target number {target_number} was found at index {index}.\")\n",
    "else:\n",
    "    print(\"The target number was not found in the list.\")\n"
   ]
  },
  {
   "cell_type": "code",
   "execution_count": 2,
   "id": "ef7b8504",
   "metadata": {},
   "outputs": [],
   "source": [
    "# frist we have to select the frist element as the current element\n",
    "# Then we compare the current element with the target element and if match it will print the output\n",
    "#if the targert element not found in the next element it will print target element not found\n",
    "# if the target element found return the location\n",
    "# if the target value found amd print it the the process is end.\n"
   ]
  },
  {
   "cell_type": "code",
   "execution_count": 3,
   "id": "ac8f019e",
   "metadata": {},
   "outputs": [
    {
     "name": "stdout",
     "output_type": "stream",
     "text": [
      "The element found at index 8\n"
     ]
    }
   ],
   "source": [
    "def binary_search(arr, target):\n",
    "    low, high = 0, len(arr) - 1\n",
    "    while low <= high:\n",
    "        mid = (low + high) // 2\n",
    "        if arr[mid] == target:\n",
    "            return mid\n",
    "        elif arr[mid] < target:\n",
    "            low = mid + 1\n",
    "        else:\n",
    "            high = mid - 1\n",
    "    return -1\n",
    "\n",
    "number = [2,5,3,7,9,10,13,15,16,77]\n",
    "target_value = 16\n",
    "\n",
    "result = binary_search(number, target_value)\n",
    "\n",
    "if result != -1:\n",
    "    print(\"The element found at index\", result)\n",
    "else:\n",
    "    print(\"The element not found in the list.\")\n"
   ]
  },
  {
   "cell_type": "raw",
   "id": "da7e1a37",
   "metadata": {},
   "source": []
  },
  {
   "cell_type": "code",
   "execution_count": 4,
   "id": "e7b05295",
   "metadata": {},
   "outputs": [],
   "source": [
    "def merge_sort(arr):\n",
    "    if len(arr) <= 1:\n",
    "        return arr\n",
    "    mid = len(arr) // 2\n",
    "    left_half = merge_sort(arr[:mid])\n",
    "    right_half = merge_sort(arr[mid:])\n",
    "    return merge(left_half, right_half)\n",
    "\n",
    "def merge(left, right):\n",
    "    merged = []\n",
    "    while left and right:\n",
    "        if left[0] <= right[0]:\n",
    "            merged.append(left.pop(0))\n",
    "        else:\n",
    "            merged.append(right.pop(0))\n",
    "    merged.extend(left or right)\n",
    "    return merged\n"
   ]
  },
  {
   "cell_type": "code",
   "execution_count": 5,
   "id": "54e68c93",
   "metadata": {},
   "outputs": [],
   "source": [
    "def merge_sort(arr):\n",
    "    if len(arr) <= 1:\n",
    "        return arr\n",
    "    mid = len(arr) // 2\n",
    "    left_half = merge_sort(arr[:mid])\n",
    "    right_half = merge_sort(arr[mid:])\n",
    "    return merge(left_half, right_half)\n",
    "\n",
    "def merge(left, right):\n",
    "    merged = []\n",
    "    while left and right:\n",
    "        if left[0] <= right[0]:\n",
    "            merged.append(left.pop(0))\n",
    "        else:\n",
    "            merged.append(right.pop(0))\n",
    "    merged.extend(left or right)\n",
    "    return merged\n"
   ]
  },
  {
   "cell_type": "code",
   "execution_count": 6,
   "id": "169c44d0",
   "metadata": {},
   "outputs": [],
   "source": [
    "my_string = 'today is boring as hell'"
   ]
  },
  {
   "cell_type": "code",
   "execution_count": 7,
   "id": "c9e28747",
   "metadata": {},
   "outputs": [
    {
     "name": "stdout",
     "output_type": "stream",
     "text": [
      "today is boring as hell\n"
     ]
    }
   ],
   "source": [
    "print(my_string)"
   ]
  },
  {
   "cell_type": "code",
   "execution_count": null,
   "id": "9725f5b2",
   "metadata": {},
   "outputs": [],
   "source": []
  },
  {
   "cell_type": "code",
   "execution_count": null,
   "id": "92aa570e",
   "metadata": {},
   "outputs": [],
   "source": []
  }
 ],
 "metadata": {
  "kernelspec": {
   "display_name": "Python 3 (ipykernel)",
   "language": "python",
   "name": "python3"
  },
  "language_info": {
   "codemirror_mode": {
    "name": "ipython",
    "version": 3
   },
   "file_extension": ".py",
   "mimetype": "text/x-python",
   "name": "python",
   "nbconvert_exporter": "python",
   "pygments_lexer": "ipython3",
   "version": "3.10.9"
  }
 },
 "nbformat": 4,
 "nbformat_minor": 5
}
