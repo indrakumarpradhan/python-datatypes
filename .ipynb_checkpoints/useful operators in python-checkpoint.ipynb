{
 "cells": [
  {
   "cell_type": "code",
   "execution_count": 1,
   "id": "c6e70f9e",
   "metadata": {},
   "outputs": [
    {
     "name": "stdout",
     "output_type": "stream",
     "text": [
      "0\n",
      "1\n",
      "2\n",
      "3\n",
      "4\n",
      "5\n",
      "6\n",
      "7\n",
      "8\n",
      "9\n"
     ]
    }
   ],
   "source": [
    "mylist =[1,2,3,4,5,6,7,8,9,10]\n",
    "for num in range (0,10):\n",
    "    print (num)"
   ]
  },
  {
   "cell_type": "code",
   "execution_count": 2,
   "id": "0cf3dd07",
   "metadata": {},
   "outputs": [
    {
     "data": {
      "text/plain": [
       "range(0, 10)"
      ]
     },
     "execution_count": 2,
     "metadata": {},
     "output_type": "execute_result"
    }
   ],
   "source": [
    "range (0,10)"
   ]
  },
  {
   "cell_type": "code",
   "execution_count": 3,
   "id": "301d8507",
   "metadata": {},
   "outputs": [
    {
     "data": {
      "text/plain": [
       "[0, 1, 2, 3, 4, 5, 6, 7, 8, 9]"
      ]
     },
     "execution_count": 3,
     "metadata": {},
     "output_type": "execute_result"
    }
   ],
   "source": [
    "list(range(0,10))"
   ]
  },
  {
   "cell_type": "code",
   "execution_count": 4,
   "id": "32545faa",
   "metadata": {},
   "outputs": [
    {
     "name": "stdout",
     "output_type": "stream",
     "text": [
      "0\n",
      "1\n",
      "2\n",
      "3\n",
      "4\n",
      "5\n",
      "6\n",
      "7\n",
      "8\n",
      "9\n"
     ]
    }
   ],
   "source": [
    "for num in range (10):\n",
    "    print(num)"
   ]
  },
  {
   "cell_type": "code",
   "execution_count": 5,
   "id": "486fe2e0",
   "metadata": {},
   "outputs": [
    {
     "name": "stdout",
     "output_type": "stream",
     "text": [
      "2\n",
      "3\n",
      "4\n",
      "5\n"
     ]
    }
   ],
   "source": [
    "for num in range (2,6):\n",
    "    print(num)"
   ]
  },
  {
   "cell_type": "code",
   "execution_count": 6,
   "id": "d217de90",
   "metadata": {},
   "outputs": [
    {
     "name": "stdout",
     "output_type": "stream",
     "text": [
      "0\n",
      "2\n",
      "4\n",
      "6\n",
      "8\n",
      "10\n"
     ]
    }
   ],
   "source": [
    "for num in range (0,11,2):\n",
    "    print(num)"
   ]
  },
  {
   "cell_type": "code",
   "execution_count": 7,
   "id": "1a080395",
   "metadata": {},
   "outputs": [],
   "source": [
    "#enumerate"
   ]
  },
  {
   "cell_type": "code",
   "execution_count": 8,
   "id": "56fc3022",
   "metadata": {},
   "outputs": [
    {
     "name": "stdout",
     "output_type": "stream",
     "text": [
      "At index0the letter isa\n",
      "At index1the letter isb\n",
      "At index2the letter isc\n",
      "At index3the letter isd\n",
      "At index4the letter ise\n"
     ]
    }
   ],
   "source": [
    "index_count=0\n",
    "for letter in 'abcde':\n",
    "    print('At index{}the letter is{}'.format(index_count,letter))\n",
    "    index_count+=1"
   ]
  },
  {
   "cell_type": "code",
   "execution_count": 9,
   "id": "7f11a720",
   "metadata": {},
   "outputs": [
    {
     "name": "stdout",
     "output_type": "stream",
     "text": [
      "(0, 'a')\n",
      "(1, 'b')\n",
      "(2, 'c')\n",
      "(3, 'd')\n",
      "(4, 'e')\n"
     ]
    }
   ],
   "source": [
    "word ='abcde'\n",
    "for item in enumerate (word):\n",
    "    print(item)"
   ]
  },
  {
   "cell_type": "code",
   "execution_count": 10,
   "id": "8930915f",
   "metadata": {},
   "outputs": [
    {
     "data": {
      "text/plain": [
       "tuple"
      ]
     },
     "execution_count": 10,
     "metadata": {},
     "output_type": "execute_result"
    }
   ],
   "source": [
    "type(item)"
   ]
  },
  {
   "cell_type": "code",
   "execution_count": 11,
   "id": "9465fa93",
   "metadata": {},
   "outputs": [
    {
     "name": "stdout",
     "output_type": "stream",
     "text": [
      "(0, 'a')\n",
      "e\n",
      "/n\n",
      "(1, 'b')\n",
      "e\n",
      "/n\n",
      "(2, 'c')\n",
      "e\n",
      "/n\n",
      "(3, 'd')\n",
      "e\n",
      "/n\n",
      "(4, 'e')\n",
      "e\n",
      "/n\n"
     ]
    }
   ],
   "source": [
    "word ='abcde'\n",
    "for index in enumerate (word):\n",
    "    print(index)\n",
    "    print(letter)\n",
    "    print('/n')"
   ]
  },
  {
   "cell_type": "code",
   "execution_count": 12,
   "id": "df445269",
   "metadata": {},
   "outputs": [
    {
     "name": "stdout",
     "output_type": "stream",
     "text": [
      "a\n",
      "1\n",
      "b\n",
      "2\n",
      "c\n",
      "3\n"
     ]
    }
   ],
   "source": [
    "mylist1=['a','b','c']\n",
    "mylist2=[1,2,3]\n",
    "for mylist1,mylist2 in zip(mylist1,mylist2):\n",
    "    print(mylist1)\n",
    "    print(mylist2)"
   ]
  },
  {
   "cell_type": "code",
   "execution_count": 13,
   "id": "a8b76494",
   "metadata": {},
   "outputs": [
    {
     "name": "stdout",
     "output_type": "stream",
     "text": [
      "a\n",
      "1\n",
      "4\n",
      "b\n",
      "2\n",
      "5\n",
      "c\n",
      "3\n",
      "6\n"
     ]
    }
   ],
   "source": [
    "mylist1=['a','b','c']\n",
    "mylist2=[1,2,3]\n",
    "mylist3=[4,5,6]\n",
    "for mylist1,mylist2,mylist3 in zip(mylist1,mylist2,mylist3):\n",
    "    print(mylist1)\n",
    "    print(mylist2)\n",
    "    print(mylist3)"
   ]
  },
  {
   "cell_type": "code",
   "execution_count": 14,
   "id": "8db036f4",
   "metadata": {},
   "outputs": [],
   "source": [
    "#in keyword"
   ]
  },
  {
   "cell_type": "code",
   "execution_count": 15,
   "id": "51fc1e05",
   "metadata": {},
   "outputs": [
    {
     "data": {
      "text/plain": [
       "True"
      ]
     },
     "execution_count": 15,
     "metadata": {},
     "output_type": "execute_result"
    }
   ],
   "source": [
    "'b'in['a','b','c']"
   ]
  },
  {
   "cell_type": "code",
   "execution_count": 16,
   "id": "bd714738",
   "metadata": {},
   "outputs": [
    {
     "data": {
      "text/plain": [
       "False"
      ]
     },
     "execution_count": 16,
     "metadata": {},
     "output_type": "execute_result"
    }
   ],
   "source": [
    "'x'in[2,3,4]"
   ]
  },
  {
   "cell_type": "code",
   "execution_count": 17,
   "id": "47da5ac8",
   "metadata": {},
   "outputs": [
    {
     "data": {
      "text/plain": [
       "True"
      ]
     },
     "execution_count": 17,
     "metadata": {},
     "output_type": "execute_result"
    }
   ],
   "source": [
    "'x'in['x','y','z']"
   ]
  },
  {
   "cell_type": "code",
   "execution_count": 18,
   "id": "f452fabd",
   "metadata": {},
   "outputs": [
    {
     "data": {
      "text/plain": [
       "True"
      ]
     },
     "execution_count": 18,
     "metadata": {},
     "output_type": "execute_result"
    }
   ],
   "source": [
    "'mykey'in {'mykey'}"
   ]
  },
  {
   "cell_type": "code",
   "execution_count": 19,
   "id": "617f0d81",
   "metadata": {},
   "outputs": [
    {
     "data": {
      "text/plain": [
       "False"
      ]
     },
     "execution_count": 19,
     "metadata": {},
     "output_type": "execute_result"
    }
   ],
   "source": [
    "d={'mykey':345}\n",
    "345 in d"
   ]
  },
  {
   "cell_type": "code",
   "execution_count": 20,
   "id": "4b6a4d42",
   "metadata": {},
   "outputs": [
    {
     "data": {
      "text/plain": [
       "True"
      ]
     },
     "execution_count": 20,
     "metadata": {},
     "output_type": "execute_result"
    }
   ],
   "source": [
    "345 in d.values()"
   ]
  },
  {
   "cell_type": "code",
   "execution_count": 21,
   "id": "6c3262bd",
   "metadata": {},
   "outputs": [
    {
     "data": {
      "text/plain": [
       "False"
      ]
     },
     "execution_count": 21,
     "metadata": {},
     "output_type": "execute_result"
    }
   ],
   "source": [
    "345 in d.keys()"
   ]
  },
  {
   "cell_type": "code",
   "execution_count": 22,
   "id": "11e2d10d",
   "metadata": {},
   "outputs": [
    {
     "data": {
      "text/plain": [
       "False"
      ]
     },
     "execution_count": 22,
     "metadata": {},
     "output_type": "execute_result"
    }
   ],
   "source": [
    "345 in d.items()"
   ]
  },
  {
   "cell_type": "code",
   "execution_count": 23,
   "id": "14e742a4",
   "metadata": {},
   "outputs": [],
   "source": [
    "#min,max"
   ]
  },
  {
   "cell_type": "code",
   "execution_count": 24,
   "id": "5373ddae",
   "metadata": {},
   "outputs": [
    {
     "data": {
      "text/plain": [
       "10"
      ]
     },
     "execution_count": 24,
     "metadata": {},
     "output_type": "execute_result"
    }
   ],
   "source": [
    "mylist =[10,20,30,40,50,60]\n",
    "min(mylist)"
   ]
  },
  {
   "cell_type": "code",
   "execution_count": 25,
   "id": "8160d21d",
   "metadata": {},
   "outputs": [
    {
     "data": {
      "text/plain": [
       "60"
      ]
     },
     "execution_count": 25,
     "metadata": {},
     "output_type": "execute_result"
    }
   ],
   "source": [
    "max(mylist)"
   ]
  },
  {
   "cell_type": "code",
   "execution_count": 26,
   "id": "b08d592d",
   "metadata": {},
   "outputs": [],
   "source": [
    "#random library"
   ]
  },
  {
   "cell_type": "code",
   "execution_count": 27,
   "id": "5a853000",
   "metadata": {},
   "outputs": [
    {
     "data": {
      "text/plain": [
       "[2, 3, 1, 10, 9, 5, 8, 7, 4, 6]"
      ]
     },
     "execution_count": 27,
     "metadata": {},
     "output_type": "execute_result"
    }
   ],
   "source": [
    "from random import shuffle\n",
    "mylist=[1,2,3,4,5,6,7,8,9,10]\n",
    "shuffle(mylist)\n",
    "mylist"
   ]
  },
  {
   "cell_type": "code",
   "execution_count": 28,
   "id": "8069fd91",
   "metadata": {},
   "outputs": [],
   "source": [
    "from random import shuffle\n",
    "mylist=[1,2,3,4,5,6,7,8,9,10]\n",
    "shuffle(mylist)\n",
    "rd1 =mylist"
   ]
  },
  {
   "cell_type": "code",
   "execution_count": 29,
   "id": "11cf8e88",
   "metadata": {},
   "outputs": [
    {
     "data": {
      "text/plain": [
       "[10, 5, 1, 4, 6, 9, 8, 7, 3, 2]"
      ]
     },
     "execution_count": 29,
     "metadata": {},
     "output_type": "execute_result"
    }
   ],
   "source": [
    "rd1"
   ]
  },
  {
   "cell_type": "code",
   "execution_count": 30,
   "id": "a554ceab",
   "metadata": {},
   "outputs": [
    {
     "data": {
      "text/plain": [
       "62"
      ]
     },
     "execution_count": 30,
     "metadata": {},
     "output_type": "execute_result"
    }
   ],
   "source": [
    "from random import randint\n",
    "randint(0,100)"
   ]
  },
  {
   "cell_type": "code",
   "execution_count": 31,
   "id": "da77922d",
   "metadata": {},
   "outputs": [
    {
     "data": {
      "text/plain": [
       "27"
      ]
     },
     "execution_count": 31,
     "metadata": {},
     "output_type": "execute_result"
    }
   ],
   "source": [
    "my_num=randint(0,100)\n",
    "my_num"
   ]
  },
  {
   "cell_type": "code",
   "execution_count": 32,
   "id": "e3fec061",
   "metadata": {},
   "outputs": [
    {
     "data": {
      "text/plain": [
       "['apple', 'ball', 'cat']"
      ]
     },
     "execution_count": 32,
     "metadata": {},
     "output_type": "execute_result"
    }
   ],
   "source": [
    "from random import shuffle\n",
    "mylist=['apple','ball','cat']\n",
    "shuffle(mylist)\n",
    "rd1 =mylist\n",
    "rd1"
   ]
  },
  {
   "cell_type": "code",
   "execution_count": 33,
   "id": "9f246097",
   "metadata": {},
   "outputs": [
    {
     "data": {
      "text/plain": [
       "[(5, 6), (3, 4), (1, 2)]"
      ]
     },
     "execution_count": 33,
     "metadata": {},
     "output_type": "execute_result"
    }
   ],
   "source": [
    "from random import shuffle\n",
    "mylist=[(1,2),(3,4),(5,6)]\n",
    "shuffle(mylist)\n",
    "rd1 =mylist\n",
    "rd1"
   ]
  },
  {
   "cell_type": "code",
   "execution_count": 34,
   "id": "575c3db1",
   "metadata": {},
   "outputs": [],
   "source": [
    "#input()"
   ]
  },
  {
   "cell_type": "code",
   "execution_count": 35,
   "id": "7a5bd1ec",
   "metadata": {},
   "outputs": [
    {
     "name": "stdout",
     "output_type": "stream",
     "text": [
      "enter a number here4\n"
     ]
    },
    {
     "data": {
      "text/plain": [
       "'4'"
      ]
     },
     "execution_count": 35,
     "metadata": {},
     "output_type": "execute_result"
    }
   ],
   "source": [
    "input(\"enter a number here\")\n"
   ]
  },
  {
   "cell_type": "code",
   "execution_count": 37,
   "id": "94370d3a",
   "metadata": {},
   "outputs": [
    {
     "name": "stdout",
     "output_type": "stream",
     "text": [
      "what is your fav colourred\n"
     ]
    },
    {
     "data": {
      "text/plain": [
       "'red'"
      ]
     },
     "execution_count": 37,
     "metadata": {},
     "output_type": "execute_result"
    }
   ],
   "source": [
    "input(\"what is your fav colour\")\n"
   ]
  },
  {
   "cell_type": "code",
   "execution_count": 38,
   "id": "40778f85",
   "metadata": {},
   "outputs": [
    {
     "name": "stdout",
     "output_type": "stream",
     "text": [
      "enter 1st number6\n",
      "enter 2nd number4\n",
      "24.0\n"
     ]
    }
   ],
   "source": [
    "number =float(input('enter 1st number'))\n",
    "number_two=float(input('enter 2nd number'))\n",
    "result=number*number_two\n",
    "print (result)"
   ]
  },
  {
   "cell_type": "code",
   "execution_count": 39,
   "id": "b0362129",
   "metadata": {},
   "outputs": [
    {
     "name": "stdout",
     "output_type": "stream",
     "text": [
      "namebaka\n",
      "sectionc\n"
     ]
    },
    {
     "data": {
      "text/plain": [
       "'c'"
      ]
     },
     "execution_count": 39,
     "metadata": {},
     "output_type": "execute_result"
    }
   ],
   "source": [
    "input(\"name\")\n",
    "input(\"section\")\n"
   ]
  },
  {
   "cell_type": "code",
   "execution_count": 40,
   "id": "4020b895",
   "metadata": {},
   "outputs": [
    {
     "name": "stdout",
     "output_type": "stream",
     "text": [
      "Enter your 1ST nameindra\n",
      "Enter your 2ND courseBCA\n",
      "indra\n",
      "BCA\n"
     ]
    }
   ],
   "source": [
    "a =input(\"Enter your 1ST name\")\n",
    "b=input(\"Enter your 2ND course\")\n",
    "print(a)\n",
    "print(b)"
   ]
  },
  {
   "cell_type": "code",
   "execution_count": 41,
   "id": "0d4beea3",
   "metadata": {},
   "outputs": [
    {
     "name": "stdout",
     "output_type": "stream",
     "text": [
      "Sister namebaka\n",
      "Brother namemoron\n",
      "baka\n",
      "moron\n"
     ]
    }
   ],
   "source": [
    "sisters=input('Sister name')\n",
    "brother=input('Brother name')\n",
    "print(sisters)\n",
    "print(brother)"
   ]
  },
  {
   "cell_type": "code",
   "execution_count": 42,
   "id": "28b727ae",
   "metadata": {},
   "outputs": [],
   "source": [
    "#List comprehesion in python"
   ]
  },
  {
   "cell_type": "code",
   "execution_count": 43,
   "id": "9e8117c3",
   "metadata": {},
   "outputs": [
    {
     "data": {
      "text/plain": [
       "['h', 'e', 'l', 'l', 'o']"
      ]
     },
     "execution_count": 43,
     "metadata": {},
     "output_type": "execute_result"
    }
   ],
   "source": [
    "mystring='hello'\n",
    "mylist=[]\n",
    "for letter in mystring:\n",
    "    mylist.append(letter)\n",
    "mylist\n"
   ]
  },
  {
   "cell_type": "code",
   "execution_count": 44,
   "id": "a8dfeaa1",
   "metadata": {},
   "outputs": [
    {
     "data": {
      "text/plain": [
       "['h', 'e', 'l', 'l', 'o']"
      ]
     },
     "execution_count": 44,
     "metadata": {},
     "output_type": "execute_result"
    }
   ],
   "source": [
    "mystring='hello'\n",
    "mylist=[letter for letter in mystring]\n",
    "mylist"
   ]
  },
  {
   "cell_type": "code",
   "execution_count": 45,
   "id": "373e25ee",
   "metadata": {},
   "outputs": [
    {
     "data": {
      "text/plain": [
       "['G', 'e', 'e', 't', 'a']"
      ]
     },
     "execution_count": 45,
     "metadata": {},
     "output_type": "execute_result"
    }
   ],
   "source": [
    "mylist=[x for x in 'Geeta']\n",
    "mylist"
   ]
  },
  {
   "cell_type": "code",
   "execution_count": 46,
   "id": "70602cc3",
   "metadata": {},
   "outputs": [
    {
     "data": {
      "text/plain": [
       "[2,\n",
       " 3,\n",
       " 4,\n",
       " 5,\n",
       " 6,\n",
       " 7,\n",
       " 8,\n",
       " 9,\n",
       " 10,\n",
       " 11,\n",
       " 12,\n",
       " 13,\n",
       " 14,\n",
       " 15,\n",
       " 16,\n",
       " 17,\n",
       " 18,\n",
       " 19,\n",
       " 20,\n",
       " 21,\n",
       " 22,\n",
       " 23,\n",
       " 24,\n",
       " 25,\n",
       " 26,\n",
       " 27,\n",
       " 28,\n",
       " 29,\n",
       " 30,\n",
       " 31,\n",
       " 32,\n",
       " 33,\n",
       " 34,\n",
       " 35,\n",
       " 36,\n",
       " 37,\n",
       " 38,\n",
       " 39,\n",
       " 40,\n",
       " 41,\n",
       " 42,\n",
       " 43,\n",
       " 44,\n",
       " 45,\n",
       " 46,\n",
       " 47,\n",
       " 48,\n",
       " 49,\n",
       " 50,\n",
       " 51,\n",
       " 52,\n",
       " 53,\n",
       " 54,\n",
       " 55,\n",
       " 56,\n",
       " 57,\n",
       " 58,\n",
       " 59,\n",
       " 60,\n",
       " 61,\n",
       " 62,\n",
       " 63,\n",
       " 64,\n",
       " 65,\n",
       " 66,\n",
       " 67,\n",
       " 68,\n",
       " 69,\n",
       " 70,\n",
       " 71,\n",
       " 72,\n",
       " 73,\n",
       " 74,\n",
       " 75,\n",
       " 76,\n",
       " 77,\n",
       " 78,\n",
       " 79,\n",
       " 80,\n",
       " 81,\n",
       " 82,\n",
       " 83,\n",
       " 84,\n",
       " 85,\n",
       " 86,\n",
       " 87,\n",
       " 88,\n",
       " 89,\n",
       " 90,\n",
       " 91,\n",
       " 92,\n",
       " 93,\n",
       " 94,\n",
       " 95,\n",
       " 96,\n",
       " 97,\n",
       " 98,\n",
       " 99,\n",
       " 100,\n",
       " 101,\n",
       " 102,\n",
       " 103,\n",
       " 104,\n",
       " 105,\n",
       " 106,\n",
       " 107,\n",
       " 108,\n",
       " 109,\n",
       " 110,\n",
       " 111,\n",
       " 112,\n",
       " 113,\n",
       " 114,\n",
       " 115,\n",
       " 116,\n",
       " 117,\n",
       " 118,\n",
       " 119,\n",
       " 120,\n",
       " 121,\n",
       " 122,\n",
       " 123,\n",
       " 124,\n",
       " 125,\n",
       " 126,\n",
       " 127,\n",
       " 128,\n",
       " 129,\n",
       " 130,\n",
       " 131,\n",
       " 132,\n",
       " 133,\n",
       " 134,\n",
       " 135,\n",
       " 136,\n",
       " 137,\n",
       " 138,\n",
       " 139,\n",
       " 140,\n",
       " 141,\n",
       " 142,\n",
       " 143,\n",
       " 144,\n",
       " 145,\n",
       " 146,\n",
       " 147,\n",
       " 148,\n",
       " 149,\n",
       " 150,\n",
       " 151,\n",
       " 152,\n",
       " 153,\n",
       " 154,\n",
       " 155,\n",
       " 156,\n",
       " 157,\n",
       " 158,\n",
       " 159,\n",
       " 160,\n",
       " 161,\n",
       " 162,\n",
       " 163,\n",
       " 164,\n",
       " 165,\n",
       " 166,\n",
       " 167,\n",
       " 168,\n",
       " 169,\n",
       " 170,\n",
       " 171,\n",
       " 172,\n",
       " 173,\n",
       " 174,\n",
       " 175,\n",
       " 176,\n",
       " 177,\n",
       " 178,\n",
       " 179,\n",
       " 180,\n",
       " 181,\n",
       " 182,\n",
       " 183,\n",
       " 184,\n",
       " 185,\n",
       " 186,\n",
       " 187,\n",
       " 188,\n",
       " 189,\n",
       " 190,\n",
       " 191,\n",
       " 192,\n",
       " 193,\n",
       " 194,\n",
       " 195,\n",
       " 196,\n",
       " 197,\n",
       " 198,\n",
       " 199]"
      ]
     },
     "execution_count": 46,
     "metadata": {},
     "output_type": "execute_result"
    }
   ],
   "source": [
    "mylist=[x for x in range(2,200)]\n",
    "mylist"
   ]
  },
  {
   "cell_type": "code",
   "execution_count": 47,
   "id": "be05dda5",
   "metadata": {},
   "outputs": [
    {
     "data": {
      "text/plain": [
       "[2, 4, 6, 8]"
      ]
     },
     "execution_count": 47,
     "metadata": {},
     "output_type": "execute_result"
    }
   ],
   "source": [
    "mylist=[x for x in range(2,10)if x%2==0]\n",
    "\n",
    "mylist"
   ]
  },
  {
   "cell_type": "code",
   "execution_count": 48,
   "id": "5bca108d",
   "metadata": {},
   "outputs": [
    {
     "data": {
      "text/plain": [
       "[35.6, 37.4, 39.2, 41.0, 48.2]"
      ]
     },
     "execution_count": 48,
     "metadata": {},
     "output_type": "execute_result"
    }
   ],
   "source": [
    "celcius =(2,3,4,5,9)\n",
    "fahrenhait=[((9/5)*temp+32)for temp in celcius]\n",
    "fahrenhait\n"
   ]
  },
  {
   "cell_type": "code",
   "execution_count": 49,
   "id": "d8be54d3",
   "metadata": {},
   "outputs": [
    {
     "name": "stdout",
     "output_type": "stream",
     "text": [
      "[35.6, 37.4, 39.2, 41.0, 48.2]\n"
     ]
    }
   ],
   "source": [
    "celcius =(2,3,4,5,9)\n",
    "fahrenhait=[]\n",
    "for temp in celcius:\n",
    "    fahrenhait.append((9/5)*temp+32)\n",
    "print(fahrenhait)"
   ]
  },
  {
   "cell_type": "code",
   "execution_count": 50,
   "id": "009ec08c",
   "metadata": {},
   "outputs": [],
   "source": [
    "#nested loop"
   ]
  },
  {
   "cell_type": "code",
   "execution_count": 51,
   "id": "11574e4a",
   "metadata": {},
   "outputs": [
    {
     "data": {
      "text/plain": [
       "[2, 20, 200, 4, 40, 400, 6, 60, 600]"
      ]
     },
     "execution_count": 51,
     "metadata": {},
     "output_type": "execute_result"
    }
   ],
   "source": [
    "mylist=[]\n",
    "for x in[2,4,6]:\n",
    "    for y in[1,10,100]:\n",
    "        mylist.append(x*y)\n",
    "mylist"
   ]
  },
  {
   "cell_type": "code",
   "execution_count": null,
   "id": "7ac6b598",
   "metadata": {},
   "outputs": [],
   "source": []
  },
  {
   "cell_type": "code",
   "execution_count": null,
   "id": "0127a757",
   "metadata": {},
   "outputs": [],
   "source": []
  }
 ],
 "metadata": {
  "kernelspec": {
   "display_name": "Python 3 (ipykernel)",
   "language": "python",
   "name": "python3"
  },
  "language_info": {
   "codemirror_mode": {
    "name": "ipython",
    "version": 3
   },
   "file_extension": ".py",
   "mimetype": "text/x-python",
   "name": "python",
   "nbconvert_exporter": "python",
   "pygments_lexer": "ipython3",
   "version": "3.10.9"
  }
 },
 "nbformat": 4,
 "nbformat_minor": 5
}
