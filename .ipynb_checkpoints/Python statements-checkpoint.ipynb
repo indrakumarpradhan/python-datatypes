{
 "cells": [
  {
   "cell_type": "code",
   "execution_count": 1,
   "id": "73b9494c",
   "metadata": {},
   "outputs": [],
   "source": [
    "#if,else,elif"
   ]
  },
  {
   "cell_type": "code",
   "execution_count": 2,
   "id": "768d4ead",
   "metadata": {},
   "outputs": [],
   "source": [
    "#if some_condition :\n",
    "   #do something \n",
    "#else:\n",
    "     #do_something"
   ]
  },
  {
   "cell_type": "code",
   "execution_count": 3,
   "id": "19dcb6f5",
   "metadata": {},
   "outputs": [
    {
     "name": "stdout",
     "output_type": "stream",
     "text": [
      "I do not know much\n"
     ]
    }
   ],
   "source": [
    "loc='abcd'\n",
    "if loc =='Auto Shop':\n",
    "    print ('Cars are cool')\n",
    "elif loc =='Bank':\n",
    "    print ('Money is cool')\n",
    "elif loc == 'Store':\n",
    "    print ('Welcome to the store')\n",
    "else:\n",
    "    print ('I do not know much')"
   ]
  },
  {
   "cell_type": "code",
   "execution_count": 4,
   "id": "4f3d162d",
   "metadata": {},
   "outputs": [
    {
     "name": "stdout",
     "output_type": "stream",
     "text": [
      "it's true\n"
     ]
    }
   ],
   "source": [
    "if True:\n",
    "    print (\"it's true\")"
   ]
  },
  {
   "cell_type": "code",
   "execution_count": 5,
   "id": "8359c972",
   "metadata": {},
   "outputs": [
    {
     "name": "stdout",
     "output_type": "stream",
     "text": [
      "I'm not hungry\n"
     ]
    }
   ],
   "source": [
    "hungry =False \n",
    "if hungry:\n",
    "    print ('FEED ME!')\n",
    "else:\n",
    "    print (\"I'm not hungry\")"
   ]
  },
  {
   "cell_type": "code",
   "execution_count": 6,
   "id": "acc84b15",
   "metadata": {},
   "outputs": [
    {
     "name": "stdout",
     "output_type": "stream",
     "text": [
      "2\n",
      "4\n",
      "6\n",
      "8\n",
      "10\n",
      "Odd number: 10\n"
     ]
    }
   ],
   "source": [
    "mylist =[1,2,3,4,5,6,7,8,9, 10]\n",
    "for num in mylist:\n",
    "    if num%2 ==0:\n",
    "        print(num)        \n",
    "else:\n",
    "    print(f'Odd number: {num}')"
   ]
  },
  {
   "cell_type": "code",
   "execution_count": 7,
   "id": "4cb5c600",
   "metadata": {},
   "outputs": [
    {
     "name": "stdout",
     "output_type": "stream",
     "text": [
      "1\n",
      "2\n",
      "3\n"
     ]
    }
   ],
   "source": [
    "#For loops \n",
    "#syntax of a for loop \n",
    "my_iterable =[1,2,3]\n",
    "for item in my_iterable:\n",
    "    print (item)\n"
   ]
  },
  {
   "cell_type": "code",
   "execution_count": 8,
   "id": "4eaa40c0",
   "metadata": {},
   "outputs": [
    {
     "name": "stdout",
     "output_type": "stream",
     "text": [
      "I am good\n",
      "I am good\n",
      "I am good\n",
      "I am good\n",
      "I am good\n",
      "I am good\n",
      "I am good\n",
      "I am good\n",
      "I am good\n",
      "I am good\n"
     ]
    }
   ],
   "source": [
    "my_list =[1,2,3,4,5,6,7,8,9,10]\n",
    "for num in mylist:\n",
    "    print ('I am good')"
   ]
  },
  {
   "cell_type": "code",
   "execution_count": 9,
   "id": "a814abfa",
   "metadata": {},
   "outputs": [
    {
     "name": "stdout",
     "output_type": "stream",
     "text": [
      "1\n",
      "3\n",
      "6\n",
      "10\n",
      "15\n",
      "21\n",
      "28\n",
      "36\n",
      "45\n",
      "55\n"
     ]
    }
   ],
   "source": [
    "mylist = [1,2,3,4,5,6,7,8,9,10]\n",
    "list_sum =0\n",
    "for num in mylist:\n",
    "    list_sum =list_sum +num\n",
    "    print (list_sum)"
   ]
  },
  {
   "cell_type": "code",
   "execution_count": 10,
   "id": "6b1b3d3f",
   "metadata": {},
   "outputs": [
    {
     "name": "stdout",
     "output_type": "stream",
     "text": [
      "H\n",
      "E\n",
      "L\n",
      "L\n",
      "O\n",
      " \n",
      "W\n",
      "O\n",
      "R\n",
      "L\n",
      "D\n"
     ]
    }
   ],
   "source": [
    "mystring ='HELLO WORLD'\n",
    "for letter in mystring:\n",
    "    print (letter)"
   ]
  },
  {
   "cell_type": "code",
   "execution_count": 11,
   "id": "b182c3a5",
   "metadata": {},
   "outputs": [
    {
     "name": "stdout",
     "output_type": "stream",
     "text": [
      "Happy\n",
      "Happy\n",
      "Happy\n",
      "Happy\n",
      "Happy\n",
      "Happy\n",
      "Happy\n"
     ]
    }
   ],
   "source": [
    "for _ in 'Medhavi':\n",
    "    print('Happy')"
   ]
  },
  {
   "cell_type": "code",
   "execution_count": 12,
   "id": "fae0186d",
   "metadata": {},
   "outputs": [
    {
     "name": "stdout",
     "output_type": "stream",
     "text": [
      "1\n",
      "2\n",
      "3\n"
     ]
    }
   ],
   "source": [
    "tup = (1,2,3)\n",
    "for item in tup:\n",
    "    print (item)"
   ]
  },
  {
   "cell_type": "code",
   "execution_count": null,
   "id": "1ed0113a",
   "metadata": {},
   "outputs": [],
   "source": []
  },
  {
   "cell_type": "code",
   "execution_count": null,
   "id": "19a13ca0",
   "metadata": {},
   "outputs": [],
   "source": []
  }
 ],
 "metadata": {
  "kernelspec": {
   "display_name": "Python 3 (ipykernel)",
   "language": "python",
   "name": "python3"
  },
  "language_info": {
   "codemirror_mode": {
    "name": "ipython",
    "version": 3
   },
   "file_extension": ".py",
   "mimetype": "text/x-python",
   "name": "python",
   "nbconvert_exporter": "python",
   "pygments_lexer": "ipython3",
   "version": "3.10.9"
  }
 },
 "nbformat": 4,
 "nbformat_minor": 5
}
