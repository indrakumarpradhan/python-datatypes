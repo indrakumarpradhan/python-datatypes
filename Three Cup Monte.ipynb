{
 "cells": [
  {
   "cell_type": "code",
   "execution_count": 1,
   "id": "15627aac",
   "metadata": {},
   "outputs": [],
   "source": [
    "example=[1,2,3,4,5]"
   ]
  },
  {
   "cell_type": "code",
   "execution_count": 2,
   "id": "8c03391f",
   "metadata": {},
   "outputs": [
    {
     "data": {
      "text/plain": [
       "[1, 2, 3, 4, 5]"
      ]
     },
     "execution_count": 2,
     "metadata": {},
     "output_type": "execute_result"
    }
   ],
   "source": [
    "example"
   ]
  },
  {
   "cell_type": "code",
   "execution_count": 3,
   "id": "79151fb3",
   "metadata": {},
   "outputs": [],
   "source": [
    "from random import shuffle\n",
    "result=shuffle(example)"
   ]
  },
  {
   "cell_type": "code",
   "execution_count": 4,
   "id": "62faed0b",
   "metadata": {},
   "outputs": [],
   "source": [
    "result"
   ]
  },
  {
   "cell_type": "code",
   "execution_count": 5,
   "id": "a095a5e7",
   "metadata": {},
   "outputs": [],
   "source": [
    "mylist=['','0','']\n",
    "def shuffle_list(my_list):\n",
    "    shuffle(mylist)\n",
    "    return mylist"
   ]
  },
  {
   "cell_type": "code",
   "execution_count": 6,
   "id": "f3d66e2f",
   "metadata": {},
   "outputs": [
    {
     "data": {
      "text/plain": [
       "['', '', '0']"
      ]
     },
     "execution_count": 6,
     "metadata": {},
     "output_type": "execute_result"
    }
   ],
   "source": [
    "result=shuffle_list(mylist)\n",
    "result"
   ]
  },
  {
   "cell_type": "code",
   "execution_count": 7,
   "id": "7ce5e5c2",
   "metadata": {},
   "outputs": [
    {
     "name": "stdout",
     "output_type": "stream",
     "text": [
      "['0', '', '']\n",
      "Pick a number 0,1 or 20\n",
      "correct\n"
     ]
    }
   ],
   "source": [
    "from random import shuffle\n",
    "def my_random_list(myfirstlist):\n",
    "    shuffle(myfirstlist)\n",
    "    return myfirstlist\n",
    "def user_guess():\n",
    "    guessed=''\n",
    "    while guessed not in ['0','1','2']:\n",
    "        guessed=input('Pick a number 0,1 or 2')\n",
    "    return int(guessed)\n",
    "def checking_user_guess(myfirstlist,guessed):\n",
    "    if myfirstlist[guessed]=='0':\n",
    "        print('correct')\n",
    "    else:\n",
    "        print('wrong choice')\n",
    "        print(myfirstlist)\n",
    "#initial list\n",
    "myfirstlist=['0','','']\n",
    "#shuffle list\n",
    "mixed_list =my_random_list(myfirstlist)\n",
    "print(mixed_list)\n",
    "#user guess\n",
    "guessed =user_guess()\n",
    "#check user guess\n",
    "checking_user_guess(mixed_list,guessed)\n",
    "        "
   ]
  },
  {
   "cell_type": "code",
   "execution_count": null,
   "id": "76a3eb80",
   "metadata": {},
   "outputs": [],
   "source": []
  },
  {
   "cell_type": "code",
   "execution_count": null,
   "id": "34bab688",
   "metadata": {},
   "outputs": [],
   "source": []
  },
  {
   "cell_type": "code",
   "execution_count": null,
   "id": "1b3ca7c5",
   "metadata": {},
   "outputs": [],
   "source": []
  }
 ],
 "metadata": {
  "kernelspec": {
   "display_name": "Python 3 (ipykernel)",
   "language": "python",
   "name": "python3"
  },
  "language_info": {
   "codemirror_mode": {
    "name": "ipython",
    "version": 3
   },
   "file_extension": ".py",
   "mimetype": "text/x-python",
   "name": "python",
   "nbconvert_exporter": "python",
   "pygments_lexer": "ipython3",
   "version": "3.10.9"
  }
 },
 "nbformat": 4,
 "nbformat_minor": 5
}
