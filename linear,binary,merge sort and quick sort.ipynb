{
 "cells": [
  {
   "cell_type": "code",
   "execution_count": 1,
   "id": "793ee705",
   "metadata": {},
   "outputs": [
    {
     "name": "stdout",
     "output_type": "stream",
     "text": [
      "The target value 5 was found at index 2.\n"
     ]
    }
   ],
   "source": [
    "def linear_search(arr, target):\n",
    "    for i in range(len(arr)):\n",
    "        if arr[i] == target:\n",
    "            return i\n",
    "    return -1\n",
    "\n",
    "numbers = [1, 2, 5, 6, 7, 8, 9, 10]\n",
    "target_value = 5\n",
    "\n",
    "index = linear_search(numbers, target_value)\n",
    "\n",
    "if index != -1:\n",
    "    print(f\"The target value {target_value} was found at index {index}.\")\n",
    "else:\n",
    "    print(f\"The target value {target_value} was not found in the array.\")"
   ]
  },
  {
   "cell_type": "raw",
   "id": "26c882ae",
   "metadata": {},
   "source": [
    "1.Define a function called linear_search that takes an array arr and a target value target as input.\n",
    "2.If the current element is equal to the target value, return the current index i as the result.\n",
    "3.If the loop completes without finding a match, return -1 to indicate that the target value was not found in the array.\n",
    "4.Outside the function, create a list called numbers and assign it some values.\n",
    "5.Define a variable target_value and assign it the value to search for in the array.\n",
    "6.Call the linear_search function with numbers and target_value as arguments, and store the result in the variable index.\n",
    "7.Check if index is not equal to -1.\n",
    "8.If the index is not -1, print a message indicating that the target value was found at the index.\n",
    "9.If the index is -1,  that the target value was not found in the array.\n",
    "10.If the target_value is in the range return target value was found in array.\n",
    "\n",
    "\n",
    "\n"
   ]
  },
  {
   "cell_type": "code",
   "execution_count": 2,
   "id": "ae75d8a0",
   "metadata": {},
   "outputs": [
    {
     "name": "stdout",
     "output_type": "stream",
     "text": [
      "Element found at index 5\n"
     ]
    }
   ],
   "source": [
    "def binary_search(arr, target):\n",
    "    left = 0\n",
    "    right = len(arr) - 1\n",
    "\n",
    "    while left <= right:\n",
    "        mid = (left + right) // 2\n",
    "\n",
    "        if arr[mid] == target:\n",
    "            return mid\n",
    "        elif arr[mid] < target:\n",
    "            left = mid + 1\n",
    "        else:\n",
    "            right = mid - 1\n",
    "\n",
    "    return -1\n",
    "\n",
    "my_list = [2, 4, 7, 10, 14, 18, 20, 23]\n",
    "target_value = 18\n",
    "\n",
    "result = binary_search(my_list, target_value)\n",
    "\n",
    "if result != -1:\n",
    "    print(\"Element found at index\", result)\n",
    "else:\n",
    "    print(\"Element not found in the list.\")"
   ]
  },
  {
   "cell_type": "markdown",
   "id": "51456475",
   "metadata": {},
   "source": [
    "Binary search is efficient because it reduces the search space by half at each iteration, making it particularly useful for large sorted lists or arrays."
   ]
  },
  {
   "cell_type": "code",
   "execution_count": 3,
   "id": "70a746ed",
   "metadata": {},
   "outputs": [
    {
     "name": "stdout",
     "output_type": "stream",
     "text": [
      "[1, 2, 3, 4, 5, 6, 7, 8, 9]\n"
     ]
    }
   ],
   "source": [
    "def merge_sort(arr):\n",
    "    if len(arr) <= 1:\n",
    "        return arr\n",
    "    \n",
    "    mid = len(arr) // 2\n",
    "    left_half = arr[:mid]\n",
    "    right_half = arr[mid:]\n",
    "    \n",
    "    left_half = merge_sort(left_half)\n",
    "    right_half = merge_sort(right_half)\n",
    "    \n",
    "    return merge(left_half, right_half)\n",
    "\n",
    "def merge(left, right):\n",
    "    merged = []\n",
    "    left_index = right_index = 0\n",
    "    \n",
    "    while left_index < len(left) and right_index < len(right):\n",
    "        if left[left_index] < right[right_index]:\n",
    "            merged.append(left[left_index])\n",
    "            left_index += 1\n",
    "        else:\n",
    "            merged.append(right[right_index])\n",
    "            right_index += 1\n",
    "    \n",
    "    merged.extend(left[left_index:])\n",
    "    merged.extend(right[right_index:])\n",
    "    \n",
    "    return merged\n",
    "my_list = [5, 2, 8, 3, 1, 9, 4, 6, 7]\n",
    "sorted_list = merge_sort(my_list)\n",
    "print(sorted_list)\n"
   ]
  },
  {
   "cell_type": "code",
   "execution_count": null,
   "id": "092947ab",
   "metadata": {},
   "outputs": [],
   "source": []
  },
  {
   "cell_type": "code",
   "execution_count": null,
   "id": "2c67655c",
   "metadata": {},
   "outputs": [],
   "source": []
  },
  {
   "cell_type": "code",
   "execution_count": null,
   "id": "e915bc57",
   "metadata": {},
   "outputs": [],
   "source": []
  }
 ],
 "metadata": {
  "kernelspec": {
   "display_name": "Python 3 (ipykernel)",
   "language": "python",
   "name": "python3"
  },
  "language_info": {
   "codemirror_mode": {
    "name": "ipython",
    "version": 3
   },
   "file_extension": ".py",
   "mimetype": "text/x-python",
   "name": "python",
   "nbconvert_exporter": "python",
   "pygments_lexer": "ipython3",
   "version": "3.10.9"
  }
 },
 "nbformat": 4,
 "nbformat_minor": 5
}
